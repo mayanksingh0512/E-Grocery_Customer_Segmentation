{
 "cells": [
  {
   "cell_type": "markdown",
   "id": "ab1b8b4f",
   "metadata": {
    "papermill": {
     "duration": 0.014569,
     "end_time": "2023-01-28T17:18:58.730763",
     "exception": false,
     "start_time": "2023-01-28T17:18:58.716194",
     "status": "completed"
    },
    "tags": []
   },
   "source": [
    "<a id=\"1\"></a>\n",
    "<p style=\"font-family:newtimeroman;font-size:120%;text-align:center;\"> BUSINESS UNDERSTANDING</p>\n",
    "\n",
    "Hunter's e-grocery is a well-known new generation lifestyle brand. That has a brand presence in ten countries and is continually seeking for new methods to better and anticipate the demands of their customers. Black swan events such as Covid-19, the Ukraine crisis, and the gas scarcity have all had an influence on the purchasing behaviour of clients. Therefore, using an unsupervised machine learning model and Principal component analysis (PCA) for dimensionality reduction, We will develop a business values proposition for predictive marketing in order to target our customers based on features of their purchasing behavior."
   ]
  },
  {
   "cell_type": "code",
   "execution_count": 2,
   "id": "07b1fce1",
   "metadata": {
    "execution": {
     "iopub.execute_input": "2023-01-28T17:18:58.787213Z",
     "iopub.status.busy": "2023-01-28T17:18:58.786461Z",
     "iopub.status.idle": "2023-01-28T17:19:00.462214Z",
     "shell.execute_reply": "2023-01-28T17:19:00.461183Z"
    },
    "papermill": {
     "duration": 1.693967,
     "end_time": "2023-01-28T17:19:00.464767",
     "exception": false,
     "start_time": "2023-01-28T17:18:58.770800",
     "status": "completed"
    },
    "tags": []
   },
   "outputs": [],
   "source": [
    "import pandas as pd\n",
    "import numpy as np\n",
    "import seaborn as sns\n",
    "import matplotlib.pyplot as plt\n",
    "import seaborn as sns\n",
    "import sklearn\n",
    "from sklearn.cluster import KMeans , k_means\n",
    "import warnings\n",
    "warnings.filterwarnings('ignore')"
   ]
  },
  {
   "cell_type": "code",
   "execution_count": 3,
   "id": "8c0e9979",
   "metadata": {
    "execution": {
     "iopub.execute_input": "2023-01-28T17:19:00.495017Z",
     "iopub.status.busy": "2023-01-28T17:19:00.494351Z",
     "iopub.status.idle": "2023-01-28T17:19:04.526433Z",
     "shell.execute_reply": "2023-01-28T17:19:04.525148Z"
    },
    "papermill": {
     "duration": 4.050017,
     "end_time": "2023-01-28T17:19:04.529012",
     "exception": false,
     "start_time": "2023-01-28T17:19:00.478995",
     "status": "completed"
    },
    "tags": []
   },
   "outputs": [
    {
     "data": {
      "text/html": [
       "<div>\n",
       "<style scoped>\n",
       "    .dataframe tbody tr th:only-of-type {\n",
       "        vertical-align: middle;\n",
       "    }\n",
       "\n",
       "    .dataframe tbody tr th {\n",
       "        vertical-align: top;\n",
       "    }\n",
       "\n",
       "    .dataframe thead th {\n",
       "        text-align: right;\n",
       "    }\n",
       "</style>\n",
       "<table border=\"1\" class=\"dataframe\">\n",
       "  <thead>\n",
       "    <tr style=\"text-align: right;\">\n",
       "      <th></th>\n",
       "      <th>order_id</th>\n",
       "      <th>user_id</th>\n",
       "      <th>order_number</th>\n",
       "      <th>order_dow</th>\n",
       "      <th>order_hour_of_day</th>\n",
       "      <th>days_since_prior_order</th>\n",
       "      <th>product_id</th>\n",
       "      <th>add_to_cart_order</th>\n",
       "      <th>reordered</th>\n",
       "      <th>department_id</th>\n",
       "      <th>department</th>\n",
       "      <th>product_name</th>\n",
       "    </tr>\n",
       "  </thead>\n",
       "  <tbody>\n",
       "    <tr>\n",
       "      <th>0</th>\n",
       "      <td>2425083</td>\n",
       "      <td>49125</td>\n",
       "      <td>1</td>\n",
       "      <td>2</td>\n",
       "      <td>18</td>\n",
       "      <td>NaN</td>\n",
       "      <td>17</td>\n",
       "      <td>1</td>\n",
       "      <td>0</td>\n",
       "      <td>13</td>\n",
       "      <td>pantry</td>\n",
       "      <td>baking ingredients</td>\n",
       "    </tr>\n",
       "    <tr>\n",
       "      <th>1</th>\n",
       "      <td>2425083</td>\n",
       "      <td>49125</td>\n",
       "      <td>1</td>\n",
       "      <td>2</td>\n",
       "      <td>18</td>\n",
       "      <td>NaN</td>\n",
       "      <td>91</td>\n",
       "      <td>2</td>\n",
       "      <td>0</td>\n",
       "      <td>16</td>\n",
       "      <td>dairy eggs</td>\n",
       "      <td>soy lactosefree</td>\n",
       "    </tr>\n",
       "    <tr>\n",
       "      <th>2</th>\n",
       "      <td>2425083</td>\n",
       "      <td>49125</td>\n",
       "      <td>1</td>\n",
       "      <td>2</td>\n",
       "      <td>18</td>\n",
       "      <td>NaN</td>\n",
       "      <td>36</td>\n",
       "      <td>3</td>\n",
       "      <td>0</td>\n",
       "      <td>16</td>\n",
       "      <td>dairy eggs</td>\n",
       "      <td>butter</td>\n",
       "    </tr>\n",
       "    <tr>\n",
       "      <th>3</th>\n",
       "      <td>2425083</td>\n",
       "      <td>49125</td>\n",
       "      <td>1</td>\n",
       "      <td>2</td>\n",
       "      <td>18</td>\n",
       "      <td>NaN</td>\n",
       "      <td>83</td>\n",
       "      <td>4</td>\n",
       "      <td>0</td>\n",
       "      <td>4</td>\n",
       "      <td>produce</td>\n",
       "      <td>fresh vegetables</td>\n",
       "    </tr>\n",
       "    <tr>\n",
       "      <th>4</th>\n",
       "      <td>2425083</td>\n",
       "      <td>49125</td>\n",
       "      <td>1</td>\n",
       "      <td>2</td>\n",
       "      <td>18</td>\n",
       "      <td>NaN</td>\n",
       "      <td>83</td>\n",
       "      <td>5</td>\n",
       "      <td>0</td>\n",
       "      <td>4</td>\n",
       "      <td>produce</td>\n",
       "      <td>fresh vegetables</td>\n",
       "    </tr>\n",
       "    <tr>\n",
       "      <th>...</th>\n",
       "      <td>...</td>\n",
       "      <td>...</td>\n",
       "      <td>...</td>\n",
       "      <td>...</td>\n",
       "      <td>...</td>\n",
       "      <td>...</td>\n",
       "      <td>...</td>\n",
       "      <td>...</td>\n",
       "      <td>...</td>\n",
       "      <td>...</td>\n",
       "      <td>...</td>\n",
       "      <td>...</td>\n",
       "    </tr>\n",
       "    <tr>\n",
       "      <th>2019496</th>\n",
       "      <td>3390742</td>\n",
       "      <td>199430</td>\n",
       "      <td>16</td>\n",
       "      <td>3</td>\n",
       "      <td>18</td>\n",
       "      <td>5.0</td>\n",
       "      <td>83</td>\n",
       "      <td>8</td>\n",
       "      <td>0</td>\n",
       "      <td>4</td>\n",
       "      <td>produce</td>\n",
       "      <td>fresh vegetables</td>\n",
       "    </tr>\n",
       "    <tr>\n",
       "      <th>2019497</th>\n",
       "      <td>458285</td>\n",
       "      <td>128787</td>\n",
       "      <td>42</td>\n",
       "      <td>2</td>\n",
       "      <td>19</td>\n",
       "      <td>3.0</td>\n",
       "      <td>115</td>\n",
       "      <td>1</td>\n",
       "      <td>1</td>\n",
       "      <td>7</td>\n",
       "      <td>beverages</td>\n",
       "      <td>water seltzer sparkling water</td>\n",
       "    </tr>\n",
       "    <tr>\n",
       "      <th>2019498</th>\n",
       "      <td>458285</td>\n",
       "      <td>128787</td>\n",
       "      <td>42</td>\n",
       "      <td>2</td>\n",
       "      <td>19</td>\n",
       "      <td>3.0</td>\n",
       "      <td>32</td>\n",
       "      <td>2</td>\n",
       "      <td>1</td>\n",
       "      <td>4</td>\n",
       "      <td>produce</td>\n",
       "      <td>packaged produce</td>\n",
       "    </tr>\n",
       "    <tr>\n",
       "      <th>2019499</th>\n",
       "      <td>458285</td>\n",
       "      <td>128787</td>\n",
       "      <td>42</td>\n",
       "      <td>2</td>\n",
       "      <td>19</td>\n",
       "      <td>3.0</td>\n",
       "      <td>32</td>\n",
       "      <td>3</td>\n",
       "      <td>1</td>\n",
       "      <td>4</td>\n",
       "      <td>produce</td>\n",
       "      <td>packaged produce</td>\n",
       "    </tr>\n",
       "    <tr>\n",
       "      <th>2019500</th>\n",
       "      <td>458285</td>\n",
       "      <td>128787</td>\n",
       "      <td>42</td>\n",
       "      <td>2</td>\n",
       "      <td>19</td>\n",
       "      <td>3.0</td>\n",
       "      <td>123</td>\n",
       "      <td>4</td>\n",
       "      <td>1</td>\n",
       "      <td>4</td>\n",
       "      <td>produce</td>\n",
       "      <td>packaged vegetables fruits</td>\n",
       "    </tr>\n",
       "  </tbody>\n",
       "</table>\n",
       "<p>2019501 rows × 12 columns</p>\n",
       "</div>"
      ],
      "text/plain": [
       "         order_id  user_id  order_number  order_dow  order_hour_of_day  \\\n",
       "0         2425083    49125             1          2                 18   \n",
       "1         2425083    49125             1          2                 18   \n",
       "2         2425083    49125             1          2                 18   \n",
       "3         2425083    49125             1          2                 18   \n",
       "4         2425083    49125             1          2                 18   \n",
       "...           ...      ...           ...        ...                ...   \n",
       "2019496   3390742   199430            16          3                 18   \n",
       "2019497    458285   128787            42          2                 19   \n",
       "2019498    458285   128787            42          2                 19   \n",
       "2019499    458285   128787            42          2                 19   \n",
       "2019500    458285   128787            42          2                 19   \n",
       "\n",
       "         days_since_prior_order  product_id  add_to_cart_order  reordered  \\\n",
       "0                           NaN          17                  1          0   \n",
       "1                           NaN          91                  2          0   \n",
       "2                           NaN          36                  3          0   \n",
       "3                           NaN          83                  4          0   \n",
       "4                           NaN          83                  5          0   \n",
       "...                         ...         ...                ...        ...   \n",
       "2019496                     5.0          83                  8          0   \n",
       "2019497                     3.0         115                  1          1   \n",
       "2019498                     3.0          32                  2          1   \n",
       "2019499                     3.0          32                  3          1   \n",
       "2019500                     3.0         123                  4          1   \n",
       "\n",
       "         department_id  department                   product_name  \n",
       "0                   13      pantry             baking ingredients  \n",
       "1                   16  dairy eggs                soy lactosefree  \n",
       "2                   16  dairy eggs                         butter  \n",
       "3                    4     produce               fresh vegetables  \n",
       "4                    4     produce               fresh vegetables  \n",
       "...                ...         ...                            ...  \n",
       "2019496              4     produce               fresh vegetables  \n",
       "2019497              7   beverages  water seltzer sparkling water  \n",
       "2019498              4     produce               packaged produce  \n",
       "2019499              4     produce               packaged produce  \n",
       "2019500              4     produce     packaged vegetables fruits  \n",
       "\n",
       "[2019501 rows x 12 columns]"
      ]
     },
     "execution_count": 3,
     "metadata": {},
     "output_type": "execute_result"
    }
   ],
   "source": [
    "main_data = pd.read_csv(\"ECommerce_consumer behaviour.csv\")\n",
    "df = main_data.copy()\n",
    "df"
   ]
  },
  {
   "cell_type": "code",
   "execution_count": 4,
   "id": "60345f5a",
   "metadata": {
    "execution": {
     "iopub.execute_input": "2023-01-28T17:19:04.559767Z",
     "iopub.status.busy": "2023-01-28T17:19:04.559292Z",
     "iopub.status.idle": "2023-01-28T17:19:04.583183Z",
     "shell.execute_reply": "2023-01-28T17:19:04.581628Z"
    },
    "papermill": {
     "duration": 0.042907,
     "end_time": "2023-01-28T17:19:04.586172",
     "exception": false,
     "start_time": "2023-01-28T17:19:04.543265",
     "status": "completed"
    },
    "tags": []
   },
   "outputs": [
    {
     "name": "stdout",
     "output_type": "stream",
     "text": [
      "<class 'pandas.core.frame.DataFrame'>\n",
      "RangeIndex: 2019501 entries, 0 to 2019500\n",
      "Data columns (total 12 columns):\n",
      " #   Column                  Dtype  \n",
      "---  ------                  -----  \n",
      " 0   order_id                int64  \n",
      " 1   user_id                 int64  \n",
      " 2   order_number            int64  \n",
      " 3   order_dow               int64  \n",
      " 4   order_hour_of_day       int64  \n",
      " 5   days_since_prior_order  float64\n",
      " 6   product_id              int64  \n",
      " 7   add_to_cart_order       int64  \n",
      " 8   reordered               int64  \n",
      " 9   department_id           int64  \n",
      " 10  department              object \n",
      " 11  product_name            object \n",
      "dtypes: float64(1), int64(9), object(2)\n",
      "memory usage: 184.9+ MB\n"
     ]
    }
   ],
   "source": [
    "df.info()"
   ]
  },
  {
   "cell_type": "code",
   "execution_count": 5,
   "id": "a9f7b986",
   "metadata": {
    "execution": {
     "iopub.execute_input": "2023-01-28T17:19:04.616014Z",
     "iopub.status.busy": "2023-01-28T17:19:04.615204Z",
     "iopub.status.idle": "2023-01-28T17:19:04.828540Z",
     "shell.execute_reply": "2023-01-28T17:19:04.827214Z"
    },
    "papermill": {
     "duration": 0.231664,
     "end_time": "2023-01-28T17:19:04.831711",
     "exception": false,
     "start_time": "2023-01-28T17:19:04.600047",
     "status": "completed"
    },
    "tags": []
   },
   "outputs": [
    {
     "data": {
      "text/plain": [
       "order_id                       0\n",
       "user_id                        0\n",
       "order_number                   0\n",
       "order_dow                      0\n",
       "order_hour_of_day              0\n",
       "days_since_prior_order    124342\n",
       "product_id                     0\n",
       "add_to_cart_order              0\n",
       "reordered                      0\n",
       "department_id                  0\n",
       "department                     0\n",
       "product_name                   0\n",
       "dtype: int64"
      ]
     },
     "execution_count": 5,
     "metadata": {},
     "output_type": "execute_result"
    }
   ],
   "source": [
    "df.isnull().sum()"
   ]
  },
  {
   "cell_type": "markdown",
   "id": "de3a0517",
   "metadata": {
    "papermill": {
     "duration": 0.014625,
     "end_time": "2023-01-28T17:19:04.860908",
     "exception": false,
     "start_time": "2023-01-28T17:19:04.846283",
     "status": "completed"
    },
    "tags": []
   },
   "source": [
    "### Note:\n",
    "\n",
    "**From the above summary statistics we could see that we have null value in “ days_since_prior_order” which is 6.8 % of the entire data set. The following are the steps we will do to further continue on the explanatory analysis in sequential order.**"
   ]
  },
  {
   "cell_type": "code",
   "execution_count": 6,
   "id": "1694dc8c",
   "metadata": {
    "execution": {
     "iopub.execute_input": "2023-01-28T17:19:04.891346Z",
     "iopub.status.busy": "2023-01-28T17:19:04.890895Z",
     "iopub.status.idle": "2023-01-28T17:19:04.919642Z",
     "shell.execute_reply": "2023-01-28T17:19:04.918590Z"
    },
    "papermill": {
     "duration": 0.047124,
     "end_time": "2023-01-28T17:19:04.922162",
     "exception": false,
     "start_time": "2023-01-28T17:19:04.875038",
     "status": "completed"
    },
    "tags": []
   },
   "outputs": [
    {
     "data": {
      "text/plain": [
       "array([nan,  3.,  6.,  7., 30., 20.,  4.,  8., 15., 10., 28.,  9., 12.,\n",
       "       11.,  2., 25., 13., 29., 14., 21.,  5.,  1., 18.,  0., 19., 17.,\n",
       "       22., 26., 24., 16., 23., 27.])"
      ]
     },
     "execution_count": 6,
     "metadata": {},
     "output_type": "execute_result"
    }
   ],
   "source": [
    "df['days_since_prior_order'].unique()"
   ]
  },
  {
   "cell_type": "code",
   "execution_count": 7,
   "id": "c9985772",
   "metadata": {
    "execution": {
     "iopub.execute_input": "2023-01-28T17:19:04.952548Z",
     "iopub.status.busy": "2023-01-28T17:19:04.952107Z",
     "iopub.status.idle": "2023-01-28T17:19:04.961708Z",
     "shell.execute_reply": "2023-01-28T17:19:04.960418Z"
    },
    "papermill": {
     "duration": 0.027634,
     "end_time": "2023-01-28T17:19:04.964201",
     "exception": false,
     "start_time": "2023-01-28T17:19:04.936567",
     "status": "completed"
    },
    "tags": []
   },
   "outputs": [],
   "source": [
    "for col in df.columns:\n",
    "    if df[col].dtypes == 'float64':\n",
    "        df[col].fillna(-1,inplace=True) "
   ]
  },
  {
   "cell_type": "code",
   "execution_count": 8,
   "id": "1b183521",
   "metadata": {
    "execution": {
     "iopub.execute_input": "2023-01-28T17:19:04.995253Z",
     "iopub.status.busy": "2023-01-28T17:19:04.994831Z",
     "iopub.status.idle": "2023-01-28T17:19:05.211540Z",
     "shell.execute_reply": "2023-01-28T17:19:05.210379Z"
    },
    "papermill": {
     "duration": 0.235437,
     "end_time": "2023-01-28T17:19:05.214191",
     "exception": false,
     "start_time": "2023-01-28T17:19:04.978754",
     "status": "completed"
    },
    "tags": []
   },
   "outputs": [
    {
     "data": {
      "text/plain": [
       "order_id                  0\n",
       "user_id                   0\n",
       "order_number              0\n",
       "order_dow                 0\n",
       "order_hour_of_day         0\n",
       "days_since_prior_order    0\n",
       "product_id                0\n",
       "add_to_cart_order         0\n",
       "reordered                 0\n",
       "department_id             0\n",
       "department                0\n",
       "product_name              0\n",
       "dtype: int64"
      ]
     },
     "execution_count": 8,
     "metadata": {},
     "output_type": "execute_result"
    }
   ],
   "source": [
    "df.isnull().sum()"
   ]
  },
  {
   "cell_type": "code",
   "execution_count": 9,
   "id": "989d06c5",
   "metadata": {
    "execution": {
     "iopub.execute_input": "2023-01-28T17:19:05.245860Z",
     "iopub.status.busy": "2023-01-28T17:19:05.245154Z",
     "iopub.status.idle": "2023-01-28T17:19:05.261908Z",
     "shell.execute_reply": "2023-01-28T17:19:05.260672Z"
    },
    "papermill": {
     "duration": 0.036318,
     "end_time": "2023-01-28T17:19:05.264833",
     "exception": false,
     "start_time": "2023-01-28T17:19:05.228515",
     "status": "completed"
    },
    "tags": []
   },
   "outputs": [],
   "source": [
    "df['days_since_prior_order']= df['days_since_prior_order'].astype(np.int64)"
   ]
  },
  {
   "cell_type": "code",
   "execution_count": 10,
   "id": "c38f9227",
   "metadata": {
    "execution": {
     "iopub.execute_input": "2023-01-28T17:19:05.296246Z",
     "iopub.status.busy": "2023-01-28T17:19:05.295814Z",
     "iopub.status.idle": "2023-01-28T17:19:05.309090Z",
     "shell.execute_reply": "2023-01-28T17:19:05.307854Z"
    },
    "papermill": {
     "duration": 0.03224,
     "end_time": "2023-01-28T17:19:05.312271",
     "exception": false,
     "start_time": "2023-01-28T17:19:05.280031",
     "status": "completed"
    },
    "tags": []
   },
   "outputs": [
    {
     "name": "stdout",
     "output_type": "stream",
     "text": [
      "<class 'pandas.core.frame.DataFrame'>\n",
      "RangeIndex: 2019501 entries, 0 to 2019500\n",
      "Data columns (total 12 columns):\n",
      " #   Column                  Dtype \n",
      "---  ------                  ----- \n",
      " 0   order_id                int64 \n",
      " 1   user_id                 int64 \n",
      " 2   order_number            int64 \n",
      " 3   order_dow               int64 \n",
      " 4   order_hour_of_day       int64 \n",
      " 5   days_since_prior_order  int64 \n",
      " 6   product_id              int64 \n",
      " 7   add_to_cart_order       int64 \n",
      " 8   reordered               int64 \n",
      " 9   department_id           int64 \n",
      " 10  department              object\n",
      " 11  product_name            object\n",
      "dtypes: int64(10), object(2)\n",
      "memory usage: 184.9+ MB\n"
     ]
    }
   ],
   "source": [
    "df.info()"
   ]
  },
  {
   "cell_type": "markdown",
   "id": "3b2166ff",
   "metadata": {
    "papermill": {
     "duration": 0.015366,
     "end_time": "2023-01-28T17:19:05.343164",
     "exception": false,
     "start_time": "2023-01-28T17:19:05.327798",
     "status": "completed"
    },
    "tags": []
   },
   "source": [
    "<a id=\"3\"></a>\n",
    "<p style=\"font-family:newtimeroman;font-size:120%;text-align:center;border-radius:10px 10px;\"> DATA PREPARATION</p>\n",
    "\n",
    "#### **In this section we will be doing the following steps:**\n",
    "\n",
    "- Investigating all elements within each feature\n",
    "- Aggregating & grouping values to visualize purchasing behaviour\n",
    "- Aggregating & grouping values to understand purchasing behaviour\n",
    "- Aggregating & grouping values to visualize & identify the most reordered items\n",
    "- Aggregating & grouping values to understand product reordered ratio\n",
    "- Aggregating & grouping values to visualize reordered ratio\n"
   ]
  },
  {
   "cell_type": "code",
   "execution_count": 11,
   "id": "4cf858eb",
   "metadata": {
    "execution": {
     "iopub.execute_input": "2023-01-28T17:19:05.374940Z",
     "iopub.status.busy": "2023-01-28T17:19:05.374509Z",
     "iopub.status.idle": "2023-01-28T17:19:10.157451Z",
     "shell.execute_reply": "2023-01-28T17:19:10.156061Z"
    },
    "papermill": {
     "duration": 4.802371,
     "end_time": "2023-01-28T17:19:10.160673",
     "exception": false,
     "start_time": "2023-01-28T17:19:05.358302",
     "status": "completed"
    },
    "tags": []
   },
   "outputs": [
    {
     "name": "stdout",
     "output_type": "stream",
     "text": [
      "The number of unique values for features order_id : 200000\n",
      "The number of unique values for features user_id : 105273\n",
      "The number of unique values for features order_number : 100\n",
      "The number of unique values for features order_dow : 7 --- [0 1 2 3 4 5 6]\n",
      "The number of unique values for features order_hour_of_day : 24\n",
      "The number of unique values for features days_since_prior_order : 32\n",
      "The number of unique values for features product_id : 134\n",
      "The number of unique values for features add_to_cart_order : 137\n",
      "The number of unique values for features reordered : 2 --- [0 1]\n",
      "The number of unique values for features department_id : 21 --- [ 1  2  3  4  5  6  7  8  9 10 11 12 13 14 15 16 17 18 19 20 21]\n",
      "The number of unique values for features department : 21 --- ['alcohol' 'babies' 'bakery' 'beverages' 'breakfast' 'bulk' 'canned goods'\n",
      " 'dairy eggs' 'deli' 'dry goods pasta' 'frozen' 'household'\n",
      " 'international' 'meat seafood' 'missing' 'other' 'pantry' 'personal care'\n",
      " 'pets' 'produce' 'snacks']\n",
      "The number of unique values for features product_name : 134\n"
     ]
    }
   ],
   "source": [
    "for colum in df:\n",
    "    unique_values = np.unique(df[colum])\n",
    "    nr_values = len(unique_values)\n",
    "    if nr_values < 22:\n",
    "        print(\"The number of unique values for features {} : {} --- {}\".format(colum, nr_values,unique_values))\n",
    "    else:\n",
    "         print(\"The number of unique values for features {} : {}\".format(colum, nr_values))"
   ]
  },
  {
   "cell_type": "code",
   "execution_count": 12,
   "id": "d091211b",
   "metadata": {
    "execution": {
     "iopub.execute_input": "2023-01-28T17:19:10.200742Z",
     "iopub.status.busy": "2023-01-28T17:19:10.200215Z",
     "iopub.status.idle": "2023-01-28T17:19:10.209234Z",
     "shell.execute_reply": "2023-01-28T17:19:10.208068Z"
    },
    "papermill": {
     "duration": 0.033155,
     "end_time": "2023-01-28T17:19:10.212033",
     "exception": false,
     "start_time": "2023-01-28T17:19:10.178878",
     "status": "completed"
    },
    "tags": []
   },
   "outputs": [
    {
     "data": {
      "text/plain": [
       "Index(['order_id', 'user_id', 'order_number', 'order_dow', 'order_hour_of_day',\n",
       "       'days_since_prior_order', 'product_id', 'add_to_cart_order',\n",
       "       'reordered', 'department_id', 'department', 'product_name'],\n",
       "      dtype='object')"
      ]
     },
     "execution_count": 12,
     "metadata": {},
     "output_type": "execute_result"
    }
   ],
   "source": [
    "df.columns"
   ]
  },
  {
   "cell_type": "code",
   "execution_count": 13,
   "id": "54f8dcff",
   "metadata": {
    "execution": {
     "iopub.execute_input": "2023-01-28T17:19:10.249119Z",
     "iopub.status.busy": "2023-01-28T17:19:10.248741Z",
     "iopub.status.idle": "2023-01-28T17:19:12.501700Z",
     "shell.execute_reply": "2023-01-28T17:19:12.500394Z"
    },
    "papermill": {
     "duration": 2.273195,
     "end_time": "2023-01-28T17:19:12.504746",
     "exception": false,
     "start_time": "2023-01-28T17:19:10.231551",
     "status": "completed"
    },
    "tags": []
   },
   "outputs": [
    {
     "data": {
      "image/png": "[encoded data removed]",
      "text/plain": [
       "<Figure size 1500x1200 with 1 Axes>"
      ]
     },
     "metadata": {},
     "output_type": "display_data"
    }
   ],
   "source": [
    "grouped = df.groupby(\"order_id\")[\"add_to_cart_order\"].aggregate(\"max\").reset_index()\n",
    "grouped = grouped.add_to_cart_order.value_counts()\n",
    "\n",
    "sns.set_style('dark')\n",
    "f, ax = plt.subplots(figsize=(15, 12))\n",
    "plt.xticks(rotation='vertical')\n",
    "sns.barplot(x=grouped.index, y=grouped.values)\n",
    "sns.color_palette(\"husl\", 10)\n",
    "\n",
    "plt.ylabel('Number of unique orders', fontsize=13)\n",
    "plt.xlabel('Number of products added to cart', fontsize=13)\n",
    "plt.show()"
   ]
  },
  {
   "cell_type": "markdown",
   "id": "e40f2335",
   "metadata": {
    "papermill": {
     "duration": 0.017115,
     "end_time": "2023-01-28T17:19:12.537656",
     "exception": false,
     "start_time": "2023-01-28T17:19:12.520541",
     "status": "completed"
    },
    "tags": []
   },
   "source": [
    "### Note:\n",
    "**From the above plot we can understand the purchasing behavior of the customers, where we could observe that customers are usually ordering on average around 4-7 products.**"
   ]
  },
  {
   "cell_type": "code",
   "execution_count": 14,
   "id": "5acf31de",
   "metadata": {
    "execution": {
     "iopub.execute_input": "2023-01-28T17:19:12.574247Z",
     "iopub.status.busy": "2023-01-28T17:19:12.573848Z",
     "iopub.status.idle": "2023-01-28T17:19:13.138087Z",
     "shell.execute_reply": "2023-01-28T17:19:13.136477Z"
    },
    "papermill": {
     "duration": 0.586061,
     "end_time": "2023-01-28T17:19:13.141058",
     "exception": false,
     "start_time": "2023-01-28T17:19:12.554997",
     "status": "completed"
    },
    "tags": []
   },
   "outputs": [
    {
     "data": {
      "text/html": [
       "<div>\n",
       "<style scoped>\n",
       "    .dataframe tbody tr th:only-of-type {\n",
       "        vertical-align: middle;\n",
       "    }\n",
       "\n",
       "    .dataframe tbody tr th {\n",
       "        vertical-align: top;\n",
       "    }\n",
       "\n",
       "    .dataframe thead th {\n",
       "        text-align: right;\n",
       "    }\n",
       "</style>\n",
       "<table border=\"1\" class=\"dataframe\">\n",
       "  <thead>\n",
       "    <tr style=\"text-align: right;\">\n",
       "      <th></th>\n",
       "      <th>index</th>\n",
       "      <th>product_id</th>\n",
       "      <th>product_name</th>\n",
       "      <th>department</th>\n",
       "      <th>reordered</th>\n",
       "    </tr>\n",
       "  </thead>\n",
       "  <tbody>\n",
       "    <tr>\n",
       "      <th>0</th>\n",
       "      <td>23</td>\n",
       "      <td>24</td>\n",
       "      <td>fresh fruits</td>\n",
       "      <td>produce</td>\n",
       "      <td>226039</td>\n",
       "    </tr>\n",
       "    <tr>\n",
       "      <th>1</th>\n",
       "      <td>82</td>\n",
       "      <td>83</td>\n",
       "      <td>fresh vegetables</td>\n",
       "      <td>produce</td>\n",
       "      <td>212611</td>\n",
       "    </tr>\n",
       "    <tr>\n",
       "      <th>2</th>\n",
       "      <td>122</td>\n",
       "      <td>123</td>\n",
       "      <td>packaged vegetables fruits</td>\n",
       "      <td>produce</td>\n",
       "      <td>109596</td>\n",
       "    </tr>\n",
       "    <tr>\n",
       "      <th>3</th>\n",
       "      <td>119</td>\n",
       "      <td>120</td>\n",
       "      <td>yogurt</td>\n",
       "      <td>dairy eggs</td>\n",
       "      <td>90751</td>\n",
       "    </tr>\n",
       "    <tr>\n",
       "      <th>4</th>\n",
       "      <td>20</td>\n",
       "      <td>21</td>\n",
       "      <td>packaged cheese</td>\n",
       "      <td>dairy eggs</td>\n",
       "      <td>61502</td>\n",
       "    </tr>\n",
       "    <tr>\n",
       "      <th>5</th>\n",
       "      <td>83</td>\n",
       "      <td>84</td>\n",
       "      <td>milk</td>\n",
       "      <td>dairy eggs</td>\n",
       "      <td>55150</td>\n",
       "    </tr>\n",
       "    <tr>\n",
       "      <th>6</th>\n",
       "      <td>114</td>\n",
       "      <td>115</td>\n",
       "      <td>water seltzer sparkling water</td>\n",
       "      <td>beverages</td>\n",
       "      <td>52564</td>\n",
       "    </tr>\n",
       "    <tr>\n",
       "      <th>7</th>\n",
       "      <td>106</td>\n",
       "      <td>107</td>\n",
       "      <td>chips pretzels</td>\n",
       "      <td>snacks</td>\n",
       "      <td>45306</td>\n",
       "    </tr>\n",
       "    <tr>\n",
       "      <th>8</th>\n",
       "      <td>90</td>\n",
       "      <td>91</td>\n",
       "      <td>soy lactosefree</td>\n",
       "      <td>dairy eggs</td>\n",
       "      <td>39389</td>\n",
       "    </tr>\n",
       "    <tr>\n",
       "      <th>9</th>\n",
       "      <td>111</td>\n",
       "      <td>112</td>\n",
       "      <td>bread</td>\n",
       "      <td>bakery</td>\n",
       "      <td>36381</td>\n",
       "    </tr>\n",
       "    <tr>\n",
       "      <th>10</th>\n",
       "      <td>30</td>\n",
       "      <td>31</td>\n",
       "      <td>refrigerated</td>\n",
       "      <td>beverages</td>\n",
       "      <td>35893</td>\n",
       "    </tr>\n",
       "    <tr>\n",
       "      <th>11</th>\n",
       "      <td>115</td>\n",
       "      <td>116</td>\n",
       "      <td>frozen produce</td>\n",
       "      <td>frozen</td>\n",
       "      <td>32432</td>\n",
       "    </tr>\n",
       "    <tr>\n",
       "      <th>12</th>\n",
       "      <td>36</td>\n",
       "      <td>37</td>\n",
       "      <td>ice cream ice</td>\n",
       "      <td>frozen</td>\n",
       "      <td>31323</td>\n",
       "    </tr>\n",
       "    <tr>\n",
       "      <th>13</th>\n",
       "      <td>2</td>\n",
       "      <td>3</td>\n",
       "      <td>energy granola bars</td>\n",
       "      <td>snacks</td>\n",
       "      <td>28639</td>\n",
       "    </tr>\n",
       "    <tr>\n",
       "      <th>14</th>\n",
       "      <td>77</td>\n",
       "      <td>78</td>\n",
       "      <td>crackers</td>\n",
       "      <td>snacks</td>\n",
       "      <td>28574</td>\n",
       "    </tr>\n",
       "  </tbody>\n",
       "</table>\n",
       "</div>"
      ],
      "text/plain": [
       "    index  product_id                   product_name  department  reordered\n",
       "0      23          24                   fresh fruits     produce     226039\n",
       "1      82          83               fresh vegetables     produce     212611\n",
       "2     122         123     packaged vegetables fruits     produce     109596\n",
       "3     119         120                         yogurt  dairy eggs      90751\n",
       "4      20          21                packaged cheese  dairy eggs      61502\n",
       "5      83          84                           milk  dairy eggs      55150\n",
       "6     114         115  water seltzer sparkling water   beverages      52564\n",
       "7     106         107                 chips pretzels      snacks      45306\n",
       "8      90          91                soy lactosefree  dairy eggs      39389\n",
       "9     111         112                          bread      bakery      36381\n",
       "10     30          31                   refrigerated   beverages      35893\n",
       "11    115         116                 frozen produce      frozen      32432\n",
       "12     36          37                  ice cream ice      frozen      31323\n",
       "13      2           3            energy granola bars      snacks      28639\n",
       "14     77          78                       crackers      snacks      28574"
      ]
     },
     "execution_count": 14,
     "metadata": {},
     "output_type": "execute_result"
    }
   ],
   "source": [
    "grouped = df.groupby([\"product_id\",\"product_name\",\"department\"])[\"reordered\"].aggregate('count').reset_index()\n",
    "grouped = grouped.sort_values(by='reordered', ascending=False)[:15].reset_index()\n",
    "grouped"
   ]
  },
  {
   "cell_type": "markdown",
   "id": "b86716c0",
   "metadata": {
    "papermill": {
     "duration": 0.018929,
     "end_time": "2023-01-28T17:19:13.178793",
     "exception": false,
     "start_time": "2023-01-28T17:19:13.159864",
     "status": "completed"
    },
    "tags": []
   },
   "source": [
    "### Note:\n",
    "**From the above table we can clearly observe that produce, dairy products, beverages and snacks are the top categories the \n",
    "customers are most interested to purchase**"
   ]
  },
  {
   "cell_type": "code",
   "execution_count": 17,
   "id": "67cd90c8",
   "metadata": {
    "execution": {
     "iopub.execute_input": "2023-01-28T17:19:13.216009Z",
     "iopub.status.busy": "2023-01-28T17:19:13.215619Z",
     "iopub.status.idle": "2023-01-28T17:19:13.548764Z",
     "shell.execute_reply": "2023-01-28T17:19:13.547398Z"
    },
    "papermill": {
     "duration": 0.355276,
     "end_time": "2023-01-28T17:19:13.552107",
     "exception": false,
     "start_time": "2023-01-28T17:19:13.196831",
     "status": "completed"
    },
    "tags": []
   },
   "outputs": [
    {
     "data": {
      "image/png": "[encoded data removed]",
      "text/plain": [
       "<Figure size 1200x1000 with 1 Axes>"
      ]
     },
     "metadata": {},
     "output_type": "display_data"
    }
   ],
   "source": [
    "grouped = grouped.groupby(['product_name']).sum()['reordered'].sort_values(ascending=False)\n",
    "\n",
    "sns.set_style('darkgrid')\n",
    "f, ax = plt.subplots(figsize=(12, 10))\n",
    "plt.xticks(rotation='vertical')\n",
    "sns.barplot(x=grouped.index, y=grouped.values)\n",
    "plt.ylabel('Number of Reorders', fontsize=13)\n",
    "plt.xlabel('Most ordered Products', fontsize=13)\n",
    "plt.show()"
   ]
  },
  {
   "cell_type": "markdown",
   "id": "e471d9b4",
   "metadata": {
    "papermill": {
     "duration": 0.018404,
     "end_time": "2023-01-28T17:19:13.590541",
     "exception": false,
     "start_time": "2023-01-28T17:19:13.572137",
     "status": "completed"
    },
    "tags": []
   },
   "source": [
    "### Note:\n",
    "**From the above analysis we could observe that \"Fresh Fruits\",\"Fresh Vegetables\",\"Packaged Vegetables Fruits\",\"Yogurt\" & \"Packaged Cheese\" are top 5 most reordered products.**"
   ]
  },
  {
   "cell_type": "code",
   "execution_count": 32,
   "id": "1da9bb44",
   "metadata": {
    "execution": {
     "iopub.execute_input": "2023-01-28T17:19:13.632225Z",
     "iopub.status.busy": "2023-01-28T17:19:13.630717Z",
     "iopub.status.idle": "2023-01-28T17:19:13.693288Z",
     "shell.execute_reply": "2023-01-28T17:19:13.692203Z"
    },
    "papermill": {
     "duration": 0.085297,
     "end_time": "2023-01-28T17:19:13.695748",
     "exception": false,
     "start_time": "2023-01-28T17:19:13.610451",
     "status": "completed"
    },
    "tags": []
   },
   "outputs": [
    {
     "data": {
      "text/html": [
       "<div>\n",
       "<style scoped>\n",
       "    .dataframe tbody tr th:only-of-type {\n",
       "        vertical-align: middle;\n",
       "    }\n",
       "\n",
       "    .dataframe tbody tr th {\n",
       "        vertical-align: top;\n",
       "    }\n",
       "\n",
       "    .dataframe thead th {\n",
       "        text-align: right;\n",
       "    }\n",
       "</style>\n",
       "<table border=\"1\" class=\"dataframe\">\n",
       "  <thead>\n",
       "    <tr style=\"text-align: right;\">\n",
       "      <th></th>\n",
       "      <th>reordered</th>\n",
       "      <th>product_id</th>\n",
       "      <th>Ratio</th>\n",
       "    </tr>\n",
       "  </thead>\n",
       "  <tbody>\n",
       "    <tr>\n",
       "      <th>0</th>\n",
       "      <td>0</td>\n",
       "      <td>828515</td>\n",
       "      <td>0.410257</td>\n",
       "    </tr>\n",
       "    <tr>\n",
       "      <th>1</th>\n",
       "      <td>1</td>\n",
       "      <td>1190986</td>\n",
       "      <td>0.589743</td>\n",
       "    </tr>\n",
       "  </tbody>\n",
       "</table>\n",
       "</div>"
      ],
      "text/plain": [
       "   reordered  product_id     Ratio\n",
       "0          0      828515  0.410257\n",
       "1          1     1190986  0.589743"
      ]
     },
     "execution_count": 32,
     "metadata": {},
     "output_type": "execute_result"
    }
   ],
   "source": [
    "grouped = df.groupby(\"reordered\")[\"product_id\"].aggregate('count').reset_index()\n",
    "grouped['Ratio'] = grouped[\"product_id\"].apply(lambda x: x /grouped['product_id'].sum())\n",
    "grouped"
   ]
  },
  {
   "cell_type": "code",
   "execution_count": 33,
   "id": "6ece4821",
   "metadata": {
    "execution": {
     "iopub.execute_input": "2023-01-28T17:19:13.738075Z",
     "iopub.status.busy": "2023-01-28T17:19:13.737348Z",
     "iopub.status.idle": "2023-01-28T17:19:13.885184Z",
     "shell.execute_reply": "2023-01-28T17:19:13.884231Z"
    },
    "papermill": {
     "duration": 0.173917,
     "end_time": "2023-01-28T17:19:13.888668",
     "exception": false,
     "start_time": "2023-01-28T17:19:13.714751",
     "status": "completed"
    },
    "tags": []
   },
   "outputs": [
    {
     "data": {
      "image/png": "[encoded data removed]",
      "text/plain": [
       "<Figure size 500x800 with 1 Axes>"
      ]
     },
     "metadata": {},
     "output_type": "display_data"
    }
   ],
   "source": [
    "grouped  = grouped.groupby(['reordered']).sum()['product_id'].sort_values(ascending=False)\n",
    "\n",
    "sns.set_style('whitegrid')\n",
    "f, ax = plt.subplots(figsize=(5, 8))\n",
    "sns.barplot(x=grouped.index, y=grouped.values, palette='coolwarm')\n",
    "plt.ylabel('Number of Products', fontsize=13)\n",
    "plt.xlabel('Reordered', fontsize=13)\n",
    "plt.ticklabel_format(style='plain', axis='y')\n",
    "plt.show()"
   ]
  },
  {
   "cell_type": "markdown",
   "id": "1ba52c51",
   "metadata": {
    "papermill": {
     "duration": 0.018544,
     "end_time": "2023-01-28T17:19:13.935128",
     "exception": false,
     "start_time": "2023-01-28T17:19:13.916584",
     "status": "completed"
    },
    "tags": []
   },
   "source": [
    "### Note:\n",
    "**From the above we can see that 59 % of products were reordered by customers.**"
   ]
  },
  {
   "cell_type": "markdown",
   "id": "a313bf93",
   "metadata": {
    "papermill": {
     "duration": 0.019962,
     "end_time": "2023-01-28T17:19:13.975099",
     "exception": false,
     "start_time": "2023-01-28T17:19:13.955137",
     "status": "completed"
    },
    "tags": []
   },
   "source": [
    "<a id=\"4\"></a>\n",
    "<p style=\"font-family:newtimeroman;font-size:120%;text-align:center;border-radius:10px 10px;\"> MODELING : K-MEANS</p>\n",
    "\n",
    "#### **In this section we will be first building a K-Means clustering followed by PCA:**\n",
    "\n",
    "#### K-Means Clustering:\n",
    "\n",
    "K-means clustering is an unsupervised learning algorithm that divides a dataset into k clusters, where k is the number of clusters specified by the researcher. The goal of the algorithm is to minimize the sum of squared distances between the points in a cluster and the centroid of the cluster.\n",
    "\n",
    "Here is an example of how K-means clustering might work:\n",
    "\n",
    "Suppose we have a dataset with two features (x and y) and we want to use K-means to divide the data into two clusters. We start by randomly initializing two points (centroids) in the data. We then assign each data point to the cluster corresponding to the nearest centroid. Once all of the points have been assigned to a cluster, we compute the new centroids for each cluster by taking the mean of all of the points in the cluster. We then re-assign each data point to the cluster corresponding to the nearest centroid. This process is repeated until the centroids stop moving or the assignment of points to clusters stops changing. \n",
    "\n",
    "**Therefore, the following are the methodological steps we will be taking to build our model:** \n",
    "\n",
    "- First step we will be training & experimenting K-means with 6 clusters (testing version)\n",
    "- Second step we will try to run the K-means on a rang of 2 -10 clusters (to find optimal number of cluster)\n",
    "- Creat Scree plot to visualize the inertia using Elbow method (for visualization)\n",
    "- Re-running K-means with 5 cluster\n"
   ]
  },
  {
   "cell_type": "code",
   "execution_count": 20,
   "id": "0eaa20d1",
   "metadata": {
    "execution": {
     "iopub.execute_input": "2023-01-28T17:19:14.015486Z",
     "iopub.status.busy": "2023-01-28T17:19:14.014213Z",
     "iopub.status.idle": "2023-01-28T17:19:14.035510Z",
     "shell.execute_reply": "2023-01-28T17:19:14.034236Z"
    },
    "papermill": {
     "duration": 0.044647,
     "end_time": "2023-01-28T17:19:14.038477",
     "exception": false,
     "start_time": "2023-01-28T17:19:13.993830",
     "status": "completed"
    },
    "tags": []
   },
   "outputs": [
    {
     "data": {
      "text/plain": [
       "134"
      ]
     },
     "execution_count": 20,
     "metadata": {},
     "output_type": "execute_result"
    }
   ],
   "source": [
    "len(df.product_id.unique())"
   ]
  },
  {
   "cell_type": "code",
   "execution_count": 21,
   "id": "c645cf91",
   "metadata": {
    "execution": {
     "iopub.execute_input": "2023-01-28T17:19:14.080222Z",
     "iopub.status.busy": "2023-01-28T17:19:14.079308Z",
     "iopub.status.idle": "2023-01-28T17:19:18.272060Z",
     "shell.execute_reply": "2023-01-28T17:19:18.270801Z"
    },
    "papermill": {
     "duration": 4.216768,
     "end_time": "2023-01-28T17:19:18.275295",
     "exception": false,
     "start_time": "2023-01-28T17:19:14.058527",
     "status": "completed"
    },
    "tags": []
   },
   "outputs": [
    {
     "data": {
      "text/html": [
       "<div>\n",
       "<style scoped>\n",
       "    .dataframe tbody tr th:only-of-type {\n",
       "        vertical-align: middle;\n",
       "    }\n",
       "\n",
       "    .dataframe tbody tr th {\n",
       "        vertical-align: top;\n",
       "    }\n",
       "\n",
       "    .dataframe thead th {\n",
       "        text-align: right;\n",
       "    }\n",
       "</style>\n",
       "<table border=\"1\" class=\"dataframe\">\n",
       "  <thead>\n",
       "    <tr style=\"text-align: right;\">\n",
       "      <th>department</th>\n",
       "      <th>alcohol</th>\n",
       "      <th>babies</th>\n",
       "      <th>bakery</th>\n",
       "      <th>beverages</th>\n",
       "      <th>breakfast</th>\n",
       "      <th>bulk</th>\n",
       "      <th>canned goods</th>\n",
       "      <th>dairy eggs</th>\n",
       "      <th>deli</th>\n",
       "      <th>dry goods pasta</th>\n",
       "      <th>...</th>\n",
       "      <th>household</th>\n",
       "      <th>international</th>\n",
       "      <th>meat seafood</th>\n",
       "      <th>missing</th>\n",
       "      <th>other</th>\n",
       "      <th>pantry</th>\n",
       "      <th>personal care</th>\n",
       "      <th>pets</th>\n",
       "      <th>produce</th>\n",
       "      <th>snacks</th>\n",
       "    </tr>\n",
       "    <tr>\n",
       "      <th>user_id</th>\n",
       "      <th></th>\n",
       "      <th></th>\n",
       "      <th></th>\n",
       "      <th></th>\n",
       "      <th></th>\n",
       "      <th></th>\n",
       "      <th></th>\n",
       "      <th></th>\n",
       "      <th></th>\n",
       "      <th></th>\n",
       "      <th></th>\n",
       "      <th></th>\n",
       "      <th></th>\n",
       "      <th></th>\n",
       "      <th></th>\n",
       "      <th></th>\n",
       "      <th></th>\n",
       "      <th></th>\n",
       "      <th></th>\n",
       "      <th></th>\n",
       "      <th></th>\n",
       "    </tr>\n",
       "  </thead>\n",
       "  <tbody>\n",
       "    <tr>\n",
       "      <th>2</th>\n",
       "      <td>0</td>\n",
       "      <td>0</td>\n",
       "      <td>0</td>\n",
       "      <td>0</td>\n",
       "      <td>0</td>\n",
       "      <td>0</td>\n",
       "      <td>0</td>\n",
       "      <td>2</td>\n",
       "      <td>3</td>\n",
       "      <td>0</td>\n",
       "      <td>...</td>\n",
       "      <td>0</td>\n",
       "      <td>0</td>\n",
       "      <td>0</td>\n",
       "      <td>0</td>\n",
       "      <td>0</td>\n",
       "      <td>0</td>\n",
       "      <td>0</td>\n",
       "      <td>0</td>\n",
       "      <td>3</td>\n",
       "      <td>3</td>\n",
       "    </tr>\n",
       "    <tr>\n",
       "      <th>3</th>\n",
       "      <td>0</td>\n",
       "      <td>0</td>\n",
       "      <td>0</td>\n",
       "      <td>1</td>\n",
       "      <td>0</td>\n",
       "      <td>0</td>\n",
       "      <td>0</td>\n",
       "      <td>5</td>\n",
       "      <td>0</td>\n",
       "      <td>0</td>\n",
       "      <td>...</td>\n",
       "      <td>1</td>\n",
       "      <td>0</td>\n",
       "      <td>0</td>\n",
       "      <td>0</td>\n",
       "      <td>0</td>\n",
       "      <td>1</td>\n",
       "      <td>0</td>\n",
       "      <td>0</td>\n",
       "      <td>6</td>\n",
       "      <td>3</td>\n",
       "    </tr>\n",
       "    <tr>\n",
       "      <th>7</th>\n",
       "      <td>0</td>\n",
       "      <td>0</td>\n",
       "      <td>1</td>\n",
       "      <td>7</td>\n",
       "      <td>0</td>\n",
       "      <td>0</td>\n",
       "      <td>2</td>\n",
       "      <td>4</td>\n",
       "      <td>3</td>\n",
       "      <td>0</td>\n",
       "      <td>...</td>\n",
       "      <td>0</td>\n",
       "      <td>0</td>\n",
       "      <td>1</td>\n",
       "      <td>0</td>\n",
       "      <td>0</td>\n",
       "      <td>0</td>\n",
       "      <td>0</td>\n",
       "      <td>0</td>\n",
       "      <td>2</td>\n",
       "      <td>3</td>\n",
       "    </tr>\n",
       "    <tr>\n",
       "      <th>10</th>\n",
       "      <td>0</td>\n",
       "      <td>0</td>\n",
       "      <td>0</td>\n",
       "      <td>0</td>\n",
       "      <td>0</td>\n",
       "      <td>0</td>\n",
       "      <td>0</td>\n",
       "      <td>5</td>\n",
       "      <td>4</td>\n",
       "      <td>0</td>\n",
       "      <td>...</td>\n",
       "      <td>0</td>\n",
       "      <td>0</td>\n",
       "      <td>4</td>\n",
       "      <td>0</td>\n",
       "      <td>0</td>\n",
       "      <td>4</td>\n",
       "      <td>0</td>\n",
       "      <td>0</td>\n",
       "      <td>13</td>\n",
       "      <td>0</td>\n",
       "    </tr>\n",
       "    <tr>\n",
       "      <th>11</th>\n",
       "      <td>0</td>\n",
       "      <td>0</td>\n",
       "      <td>0</td>\n",
       "      <td>3</td>\n",
       "      <td>0</td>\n",
       "      <td>0</td>\n",
       "      <td>0</td>\n",
       "      <td>2</td>\n",
       "      <td>0</td>\n",
       "      <td>0</td>\n",
       "      <td>...</td>\n",
       "      <td>0</td>\n",
       "      <td>0</td>\n",
       "      <td>0</td>\n",
       "      <td>0</td>\n",
       "      <td>0</td>\n",
       "      <td>4</td>\n",
       "      <td>0</td>\n",
       "      <td>0</td>\n",
       "      <td>2</td>\n",
       "      <td>0</td>\n",
       "    </tr>\n",
       "    <tr>\n",
       "      <th>...</th>\n",
       "      <td>...</td>\n",
       "      <td>...</td>\n",
       "      <td>...</td>\n",
       "      <td>...</td>\n",
       "      <td>...</td>\n",
       "      <td>...</td>\n",
       "      <td>...</td>\n",
       "      <td>...</td>\n",
       "      <td>...</td>\n",
       "      <td>...</td>\n",
       "      <td>...</td>\n",
       "      <td>...</td>\n",
       "      <td>...</td>\n",
       "      <td>...</td>\n",
       "      <td>...</td>\n",
       "      <td>...</td>\n",
       "      <td>...</td>\n",
       "      <td>...</td>\n",
       "      <td>...</td>\n",
       "      <td>...</td>\n",
       "      <td>...</td>\n",
       "    </tr>\n",
       "    <tr>\n",
       "      <th>206204</th>\n",
       "      <td>0</td>\n",
       "      <td>0</td>\n",
       "      <td>1</td>\n",
       "      <td>0</td>\n",
       "      <td>0</td>\n",
       "      <td>0</td>\n",
       "      <td>0</td>\n",
       "      <td>6</td>\n",
       "      <td>0</td>\n",
       "      <td>2</td>\n",
       "      <td>...</td>\n",
       "      <td>0</td>\n",
       "      <td>0</td>\n",
       "      <td>1</td>\n",
       "      <td>0</td>\n",
       "      <td>0</td>\n",
       "      <td>0</td>\n",
       "      <td>0</td>\n",
       "      <td>1</td>\n",
       "      <td>4</td>\n",
       "      <td>0</td>\n",
       "    </tr>\n",
       "    <tr>\n",
       "      <th>206205</th>\n",
       "      <td>0</td>\n",
       "      <td>0</td>\n",
       "      <td>1</td>\n",
       "      <td>1</td>\n",
       "      <td>0</td>\n",
       "      <td>0</td>\n",
       "      <td>0</td>\n",
       "      <td>2</td>\n",
       "      <td>0</td>\n",
       "      <td>0</td>\n",
       "      <td>...</td>\n",
       "      <td>0</td>\n",
       "      <td>0</td>\n",
       "      <td>0</td>\n",
       "      <td>0</td>\n",
       "      <td>0</td>\n",
       "      <td>0</td>\n",
       "      <td>0</td>\n",
       "      <td>0</td>\n",
       "      <td>3</td>\n",
       "      <td>0</td>\n",
       "    </tr>\n",
       "    <tr>\n",
       "      <th>206206</th>\n",
       "      <td>0</td>\n",
       "      <td>0</td>\n",
       "      <td>0</td>\n",
       "      <td>2</td>\n",
       "      <td>0</td>\n",
       "      <td>0</td>\n",
       "      <td>0</td>\n",
       "      <td>1</td>\n",
       "      <td>1</td>\n",
       "      <td>0</td>\n",
       "      <td>...</td>\n",
       "      <td>0</td>\n",
       "      <td>1</td>\n",
       "      <td>1</td>\n",
       "      <td>0</td>\n",
       "      <td>0</td>\n",
       "      <td>0</td>\n",
       "      <td>0</td>\n",
       "      <td>0</td>\n",
       "      <td>1</td>\n",
       "      <td>4</td>\n",
       "    </tr>\n",
       "    <tr>\n",
       "      <th>206208</th>\n",
       "      <td>0</td>\n",
       "      <td>0</td>\n",
       "      <td>2</td>\n",
       "      <td>1</td>\n",
       "      <td>1</td>\n",
       "      <td>0</td>\n",
       "      <td>0</td>\n",
       "      <td>7</td>\n",
       "      <td>1</td>\n",
       "      <td>0</td>\n",
       "      <td>...</td>\n",
       "      <td>0</td>\n",
       "      <td>0</td>\n",
       "      <td>0</td>\n",
       "      <td>0</td>\n",
       "      <td>0</td>\n",
       "      <td>0</td>\n",
       "      <td>0</td>\n",
       "      <td>0</td>\n",
       "      <td>10</td>\n",
       "      <td>2</td>\n",
       "    </tr>\n",
       "    <tr>\n",
       "      <th>206209</th>\n",
       "      <td>0</td>\n",
       "      <td>0</td>\n",
       "      <td>2</td>\n",
       "      <td>3</td>\n",
       "      <td>1</td>\n",
       "      <td>0</td>\n",
       "      <td>1</td>\n",
       "      <td>4</td>\n",
       "      <td>1</td>\n",
       "      <td>0</td>\n",
       "      <td>...</td>\n",
       "      <td>4</td>\n",
       "      <td>0</td>\n",
       "      <td>0</td>\n",
       "      <td>0</td>\n",
       "      <td>0</td>\n",
       "      <td>1</td>\n",
       "      <td>0</td>\n",
       "      <td>0</td>\n",
       "      <td>4</td>\n",
       "      <td>2</td>\n",
       "    </tr>\n",
       "  </tbody>\n",
       "</table>\n",
       "<p>105273 rows × 21 columns</p>\n",
       "</div>"
      ],
      "text/plain": [
       "department  alcohol  babies  bakery  beverages  breakfast  bulk  canned goods  \\\n",
       "user_id                                                                         \n",
       "2                 0       0       0          0          0     0             0   \n",
       "3                 0       0       0          1          0     0             0   \n",
       "7                 0       0       1          7          0     0             2   \n",
       "10                0       0       0          0          0     0             0   \n",
       "11                0       0       0          3          0     0             0   \n",
       "...             ...     ...     ...        ...        ...   ...           ...   \n",
       "206204            0       0       1          0          0     0             0   \n",
       "206205            0       0       1          1          0     0             0   \n",
       "206206            0       0       0          2          0     0             0   \n",
       "206208            0       0       2          1          1     0             0   \n",
       "206209            0       0       2          3          1     0             1   \n",
       "\n",
       "department  dairy eggs  deli  dry goods pasta  ...  household  international  \\\n",
       "user_id                                        ...                             \n",
       "2                    2     3                0  ...          0              0   \n",
       "3                    5     0                0  ...          1              0   \n",
       "7                    4     3                0  ...          0              0   \n",
       "10                   5     4                0  ...          0              0   \n",
       "11                   2     0                0  ...          0              0   \n",
       "...                ...   ...              ...  ...        ...            ...   \n",
       "206204               6     0                2  ...          0              0   \n",
       "206205               2     0                0  ...          0              0   \n",
       "206206               1     1                0  ...          0              1   \n",
       "206208               7     1                0  ...          0              0   \n",
       "206209               4     1                0  ...          4              0   \n",
       "\n",
       "department  meat seafood  missing  other  pantry  personal care  pets  \\\n",
       "user_id                                                                 \n",
       "2                      0        0      0       0              0     0   \n",
       "3                      0        0      0       1              0     0   \n",
       "7                      1        0      0       0              0     0   \n",
       "10                     4        0      0       4              0     0   \n",
       "11                     0        0      0       4              0     0   \n",
       "...                  ...      ...    ...     ...            ...   ...   \n",
       "206204                 1        0      0       0              0     1   \n",
       "206205                 0        0      0       0              0     0   \n",
       "206206                 1        0      0       0              0     0   \n",
       "206208                 0        0      0       0              0     0   \n",
       "206209                 0        0      0       1              0     0   \n",
       "\n",
       "department  produce  snacks  \n",
       "user_id                      \n",
       "2                 3       3  \n",
       "3                 6       3  \n",
       "7                 2       3  \n",
       "10               13       0  \n",
       "11                2       0  \n",
       "...             ...     ...  \n",
       "206204            4       0  \n",
       "206205            3       0  \n",
       "206206            1       4  \n",
       "206208           10       2  \n",
       "206209            4       2  \n",
       "\n",
       "[105273 rows x 21 columns]"
      ]
     },
     "execution_count": 21,
     "metadata": {},
     "output_type": "execute_result"
    }
   ],
   "source": [
    "clst_prd = pd.crosstab(df['user_id'], df['department'])\n",
    "clst_prd"
   ]
  },
  {
   "cell_type": "code",
   "execution_count": 22,
   "id": "b7510c28",
   "metadata": {
    "execution": {
     "iopub.execute_input": "2023-01-28T17:19:18.317060Z",
     "iopub.status.busy": "2023-01-28T17:19:18.316664Z",
     "iopub.status.idle": "2023-01-28T17:19:24.006610Z",
     "shell.execute_reply": "2023-01-28T17:19:24.005226Z"
    },
    "papermill": {
     "duration": 5.714271,
     "end_time": "2023-01-28T17:19:24.009735",
     "exception": false,
     "start_time": "2023-01-28T17:19:18.295464",
     "status": "completed"
    },
    "tags": []
   },
   "outputs": [
    {
     "name": "stdout",
     "output_type": "stream",
     "text": [
      "The cluster are  : [0 2 4 ... 0 2 4]\n",
      "The Inertia is : 4996208.439176531\n"
     ]
    }
   ],
   "source": [
    "X_train = clst_prd.values\n",
    "\n",
    "kmeans = KMeans(n_clusters=6, random_state=540)\n",
    "kmeans = kmeans.fit(X_train)\n",
    "\n",
    "print(\"The cluster are  :\", kmeans.labels_)\n",
    "\n",
    "print(\"The Inertia is :\", kmeans.inertia_)"
   ]
  },
  {
   "cell_type": "code",
   "execution_count": 23,
   "id": "a7d24971",
   "metadata": {
    "execution": {
     "iopub.execute_input": "2023-01-28T17:19:24.053741Z",
     "iopub.status.busy": "2023-01-28T17:19:24.053287Z",
     "iopub.status.idle": "2023-01-28T17:20:06.776091Z",
     "shell.execute_reply": "2023-01-28T17:20:06.773933Z"
    },
    "papermill": {
     "duration": 42.749342,
     "end_time": "2023-01-28T17:20:06.780094",
     "exception": false,
     "start_time": "2023-01-28T17:19:24.030752",
     "status": "completed"
    },
    "tags": []
   },
   "outputs": [
    {
     "name": "stdout",
     "output_type": "stream",
     "text": [
      "The inertia for : 2 Cluster is :  7543563.615122326\n",
      "The inertia for : 3 Cluster is :  6284972.054315467\n",
      "The inertia for : 4 Cluster is :  5731867.711694683\n",
      "The inertia for : 5 Cluster is :  5281366.432549851\n",
      "The inertia for : 6 Cluster is :  4996208.439176531\n",
      "The inertia for : 7 Cluster is :  4763209.245284893\n",
      "The inertia for : 8 Cluster is :  4586277.708068188\n",
      "The inertia for : 9 Cluster is :  4436399.223713296\n"
     ]
    }
   ],
   "source": [
    "no_of_clusters = range(2,10)\n",
    "inertia =[]\n",
    "\n",
    "for f in no_of_clusters:\n",
    "    kmeans = KMeans(n_clusters=f, random_state=540)\n",
    "    kmeans = kmeans.fit(X_train)\n",
    "    u = kmeans.inertia_\n",
    "    inertia.append(u)\n",
    "    print(\"The inertia for :\", f , \"Cluster is : \" , u)"
   ]
  },
  {
   "cell_type": "code",
   "execution_count": 24,
   "id": "df693f08",
   "metadata": {
    "execution": {
     "iopub.execute_input": "2023-01-28T17:20:06.825227Z",
     "iopub.status.busy": "2023-01-28T17:20:06.824411Z",
     "iopub.status.idle": "2023-01-28T17:20:07.067831Z",
     "shell.execute_reply": "2023-01-28T17:20:07.066283Z"
    },
    "papermill": {
     "duration": 0.268393,
     "end_time": "2023-01-28T17:20:07.070736",
     "exception": false,
     "start_time": "2023-01-28T17:20:06.802343",
     "status": "completed"
    },
    "tags": []
   },
   "outputs": [
    {
     "data": {
      "text/plain": [
       "Text(0.5, 1.0, 'Inertia Plot per k')"
      ]
     },
     "execution_count": 24,
     "metadata": {},
     "output_type": "execute_result"
    },
    {
     "data": {
      "image/png": "[encoded data removed]",
      "text/plain": [
       "<Figure size 2000x600 with 1 Axes>"
      ]
     },
     "metadata": {},
     "output_type": "display_data"
    }
   ],
   "source": [
    "fig, (ax1) = plt.subplots(1, figsize =(20,6))\n",
    "xx = np.arange(len(no_of_clusters))\n",
    "ax1.plot(xx, inertia)\n",
    "ax1.set_xticks(xx)\n",
    "ax1.set_xticklabels(no_of_clusters, rotation =\"vertical\")\n",
    "plt.xlabel(\"Number of clusters\")\n",
    "plt.ylabel(\"Inertia Score\")\n",
    "plt.title(\"Inertia Plot per k\")"
   ]
  },
  {
   "cell_type": "markdown",
   "id": "772a45e1",
   "metadata": {
    "papermill": {
     "duration": 0.020897,
     "end_time": "2023-01-28T17:20:07.112371",
     "exception": false,
     "start_time": "2023-01-28T17:20:07.091474",
     "status": "completed"
    },
    "tags": []
   },
   "source": [
    "### Note:\n",
    "**From the above plot we can come to an understanding that the inertia score start to drop drastically between 4 - 5 number of cluster. Thefore, I have decided to choose 5 number of cluster to grain granularity on our study**"
   ]
  },
  {
   "cell_type": "code",
   "execution_count": 25,
   "id": "51169ad0",
   "metadata": {
    "execution": {
     "iopub.execute_input": "2023-01-28T17:20:07.155472Z",
     "iopub.status.busy": "2023-01-28T17:20:07.155030Z",
     "iopub.status.idle": "2023-01-28T17:20:11.813795Z",
     "shell.execute_reply": "2023-01-28T17:20:11.809879Z"
    },
    "papermill": {
     "duration": 4.685571,
     "end_time": "2023-01-28T17:20:11.818486",
     "exception": false,
     "start_time": "2023-01-28T17:20:07.132915",
     "status": "completed"
    },
    "tags": []
   },
   "outputs": [
    {
     "data": {
      "text/html": [
       "<div>\n",
       "<style scoped>\n",
       "    .dataframe tbody tr th:only-of-type {\n",
       "        vertical-align: middle;\n",
       "    }\n",
       "\n",
       "    .dataframe tbody tr th {\n",
       "        vertical-align: top;\n",
       "    }\n",
       "\n",
       "    .dataframe thead th {\n",
       "        text-align: right;\n",
       "    }\n",
       "</style>\n",
       "<table border=\"1\" class=\"dataframe\">\n",
       "  <thead>\n",
       "    <tr style=\"text-align: right;\">\n",
       "      <th></th>\n",
       "      <th>Cluster 0</th>\n",
       "      <th>Cluster 1</th>\n",
       "      <th>Cluster 2</th>\n",
       "      <th>Cluster 3</th>\n",
       "      <th>Cluster 4</th>\n",
       "    </tr>\n",
       "  </thead>\n",
       "  <tbody>\n",
       "    <tr>\n",
       "      <th>0</th>\n",
       "      <td>62784</td>\n",
       "      <td>5843</td>\n",
       "      <td>8038</td>\n",
       "      <td>1926</td>\n",
       "      <td>26682</td>\n",
       "    </tr>\n",
       "  </tbody>\n",
       "</table>\n",
       "</div>"
      ],
      "text/plain": [
       "   Cluster 0   Cluster 1  Cluster 2  Cluster 3  Cluster 4\n",
       "0       62784       5843       8038       1926      26682"
      ]
     },
     "execution_count": 25,
     "metadata": {},
     "output_type": "execute_result"
    }
   ],
   "source": [
    "kmeans = KMeans(n_clusters=5, random_state=2)\n",
    "kmeans = kmeans.fit(X_train)\n",
    "\n",
    "kmeans.labels_\n",
    "\n",
    "predictions = kmeans.predict(X_train)\n",
    "\n",
    "unique , counts = np.unique(predictions, return_counts=True)\n",
    "counts = counts.reshape(1,5)\n",
    "\n",
    "countscldf = pd.DataFrame(counts, columns=[\"Cluster 0 \", \"Cluster 1\" , \"Cluster 2\", \"Cluster 3\", \"Cluster 4\"])\n",
    "\n",
    "countscldf"
   ]
  },
  {
   "cell_type": "code",
   "execution_count": 26,
   "id": "f77f373e",
   "metadata": {
    "execution": {
     "iopub.execute_input": "2023-01-28T17:20:11.865002Z",
     "iopub.status.busy": "2023-01-28T17:20:11.864547Z",
     "iopub.status.idle": "2023-01-28T17:20:11.873016Z",
     "shell.execute_reply": "2023-01-28T17:20:11.871572Z"
    },
    "papermill": {
     "duration": 0.034606,
     "end_time": "2023-01-28T17:20:11.875474",
     "exception": false,
     "start_time": "2023-01-28T17:20:11.840868",
     "status": "completed"
    },
    "tags": []
   },
   "outputs": [
    {
     "data": {
      "text/plain": [
       "array([0, 4, 0, ..., 0, 4, 0])"
      ]
     },
     "execution_count": 26,
     "metadata": {},
     "output_type": "execute_result"
    }
   ],
   "source": [
    "kmeans.labels_"
   ]
  },
  {
   "cell_type": "code",
   "execution_count": 27,
   "id": "10d12703",
   "metadata": {
    "execution": {
     "iopub.execute_input": "2023-01-28T17:20:11.920515Z",
     "iopub.status.busy": "2023-01-28T17:20:11.920067Z",
     "iopub.status.idle": "2023-01-28T17:20:11.927349Z",
     "shell.execute_reply": "2023-01-28T17:20:11.926248Z"
    },
    "papermill": {
     "duration": 0.032756,
     "end_time": "2023-01-28T17:20:11.929714",
     "exception": false,
     "start_time": "2023-01-28T17:20:11.896958",
     "status": "completed"
    },
    "tags": []
   },
   "outputs": [
    {
     "data": {
      "text/plain": [
       "array([0, 4, 0, ..., 0, 4, 0])"
      ]
     },
     "execution_count": 27,
     "metadata": {},
     "output_type": "execute_result"
    }
   ],
   "source": [
    "predictions"
   ]
  },
  {
   "cell_type": "markdown",
   "id": "c8603182",
   "metadata": {
    "papermill": {
     "duration": 0.021118,
     "end_time": "2023-01-28T17:20:11.971797",
     "exception": false,
     "start_time": "2023-01-28T17:20:11.950679",
     "status": "completed"
    },
    "tags": []
   },
   "source": [
    "<a id=\"5\"></a>\n",
    "<p style=\"font-family:newtimeroman;font-size:120%;text-align:center;border-radius:10px 10px;\"> MODELING :PRINCIPAL COMPONENT ANALYSIS (PCA)</p>\n",
    "\n",
    "#### PCA:\n",
    "\n",
    "Principal component analysis (PCA) is a statistical technique that is used to analyze the patterns in data. It involves finding a set of directions, or \"principal components,\" that capture as much of the variation in the data as possible. These principal components can be visualized as lines or planes in the data, and are typically chosen so that they are mutually orthogonal (i.e., perpendicular to one another).\n",
    "\n",
    "One way to visualize PCA is to plot the data in a scatterplot, with the principal components as the axes. This can help to reveal patterns in the data that are not immediately apparent when looking at the raw data. For example, if the data points form a clear cluster in the scatterplot, this may indicate that there is some underlying structure to the data that can be captured by the principal components.\n",
    "\n",
    "Another way to visualize PCA is to plot the data in a lower-dimensional space, such as a 2D or 3D plot. This can be particularly useful when dealing with high-dimensional data, as it can be difficult to visualize patterns in data with more than 3 dimensions. In this case, the principal components can be used to \"project\" the data onto a lower-dimensional space, allowing the patterns in the data to be more easily visualized. \n",
    "\n",
    "**Therefore, the following are the methodological steps we will be taking to plot PCA in 2D:** \n",
    "\n",
    "- Running Principal Component Analysis (PCA) to visualize & improve results for 5 clusters\n",
    "- Identifying the \"best\" number of components\n",
    "- Running PCA again with 9 components\n",
    "- Finally re-running K-means with 5 clusters & PCA with 9 components\n"
   ]
  },
  {
   "cell_type": "code",
   "execution_count": 28,
   "id": "de2cdced",
   "metadata": {
    "execution": {
     "iopub.execute_input": "2023-01-28T17:20:12.016484Z",
     "iopub.status.busy": "2023-01-28T17:20:12.016023Z",
     "iopub.status.idle": "2023-01-28T17:20:13.535133Z",
     "shell.execute_reply": "2023-01-28T17:20:13.533852Z"
    },
    "papermill": {
     "duration": 1.544583,
     "end_time": "2023-01-28T17:20:13.537990",
     "exception": false,
     "start_time": "2023-01-28T17:20:11.993407",
     "status": "completed"
    },
    "tags": []
   },
   "outputs": [
    {
     "name": "stdout",
     "output_type": "stream",
     "text": [
      "Explained variance ratio (first two components): [0.59064731 0.1373943 ]\n"
     ]
    },
    {
     "data": {
      "text/plain": [
       "<Figure size 640x480 with 0 Axes>"
      ]
     },
     "metadata": {},
     "output_type": "display_data"
    },
    {
     "data": {
      "image/png": "[encoded data removed]",
      "text/plain": [
       "<Figure size 1200x800 with 1 Axes>"
      ]
     },
     "metadata": {},
     "output_type": "display_data"
    }
   ],
   "source": [
    "from sklearn.decomposition import PCA\n",
    "from sklearn.discriminant_analysis import LinearDiscriminantAnalysis\n",
    "\n",
    "X = X_train\n",
    "y_num = predictions\n",
    "\n",
    "target_names = [\"Cluster 0\",\"Cluster 1\",\"Cluster 2\", \"Cluster 3\",\"Cluster 4\"]\n",
    "\n",
    "pca = PCA(n_components=2, random_state = 453)\n",
    "X_r = pca.fit(X).transform(X)\n",
    "\n",
    "\n",
    "print('Explained variance ratio (first two components): %s' % str(pca.explained_variance_ratio_))\n",
    "\n",
    "plt.figure()\n",
    "plt.figure(figsize=(12,8))\n",
    "colors = ['navy', 'turquoise', 'darkorange', 'red', 'black']\n",
    "lw = 2\n",
    "\n",
    "\n",
    "for color, i, target_name in zip(colors, [0, 1, 2, 3,4], target_names):\n",
    "    plt.scatter(X_r[y_num == i, 0], X_r[y_num == i, 1], color=color, alpha=.8, lw=lw,label=target_name)\n",
    "    \n",
    "plt.legend(loc='best', shadow=False, scatterpoints=1)\n",
    "plt.legend(bbox_to_anchor=(1.05, 1), loc=2, borderaxespad=0.6)   \n",
    "plt.title('PCA of 2 Items')\n",
    "plt.show()"
   ]
  },
  {
   "cell_type": "code",
   "execution_count": 29,
   "id": "c490df5c",
   "metadata": {
    "execution": {
     "iopub.execute_input": "2023-01-28T17:20:13.585920Z",
     "iopub.status.busy": "2023-01-28T17:20:13.585528Z",
     "iopub.status.idle": "2023-01-28T17:20:14.107549Z",
     "shell.execute_reply": "2023-01-28T17:20:14.106367Z"
    },
    "papermill": {
     "duration": 0.549418,
     "end_time": "2023-01-28T17:20:14.110085",
     "exception": false,
     "start_time": "2023-01-28T17:20:13.560667",
     "status": "completed"
    },
    "tags": []
   },
   "outputs": [
    {
     "name": "stdout",
     "output_type": "stream",
     "text": [
      "Total Variance in our dataset is:  113.18063996195265\n",
      "The 95% variance we want to have is:  107.52160796385502\n",
      "\n",
      "Variance explain with 4 n_compononets:  95.01640082450713\n",
      "Variance explain with 8 n_compononets:  105.3344003655439\n",
      "Variance explain with 9 n_compononets:  106.69075586908637\n",
      "Variance explain with 10 n_compononets:  107.98339847733622\n",
      "Variance explain with 15 n_compononets:  112.05606051804934\n",
      "Variance explain with 18 n_compononets:  113.0527029734667\n",
      "Variance explain with 21 n_compononets:  113.18063996195265\n"
     ]
    },
    {
     "data": {
      "image/png": "[encoded data removed]",
      "text/plain": [
       "<Figure size 1400x1000 with 1 Axes>"
      ]
     },
     "metadata": {},
     "output_type": "display_data"
    }
   ],
   "source": [
    "n_components = X.shape[1]\n",
    "\n",
    "pca = PCA(n_components=n_components, random_state = 453)\n",
    "X_r = pca.fit(X).transform(X)\n",
    "\n",
    "total_variance = sum(pca.explained_variance_)\n",
    "print(\"Total Variance in our dataset is: \", total_variance)\n",
    "var_95 = total_variance * 0.95\n",
    "print(\"The 95% variance we want to have is: \", var_95)\n",
    "print(\"\")\n",
    "\n",
    "a = zip(range(0,n_components), pca.explained_variance_)\n",
    "a = pd.DataFrame(a, columns=[\"PCA Comp\", \"Explained Variance\"])\n",
    "\n",
    "print(\"Variance explain with 4 n_compononets: \", sum(a[\"Explained Variance\"][0:4]))\n",
    "print(\"Variance explain with 8 n_compononets: \", sum(a[\"Explained Variance\"][0:8]))\n",
    "print(\"Variance explain with 9 n_compononets: \", sum(a[\"Explained Variance\"][0:9]))\n",
    "print(\"Variance explain with 10 n_compononets: \", sum(a[\"Explained Variance\"][0:10]))\n",
    "print(\"Variance explain with 15 n_compononets: \", sum(a[\"Explained Variance\"][0:15]))\n",
    "print(\"Variance explain with 18 n_compononets: \", sum(a[\"Explained Variance\"][0:18]))\n",
    "print(\"Variance explain with 21 n_compononets: \", sum(a[\"Explained Variance\"][0:21]))\n",
    "\n",
    "plt.figure(1, figsize=(14, 10))\n",
    "plt.plot(pca.explained_variance_ratio_, linewidth=2, c=\"r\")\n",
    "plt.xlabel('n_components')\n",
    "plt.ylabel('explained_ratio_')\n",
    "\n",
    "plt.axvline(9,linestyle=':', label='n_components - 95% explained', c =\"blue\")\n",
    "plt.legend(prop=dict(size=12))\n",
    "\n",
    "plt.annotate(' 9 eigenvectors used to explain 95% variance', xy=(9, pca.explained_variance_ratio_[9]), \n",
    "             xytext=(9, pca.explained_variance_ratio_[9]),\n",
    "            arrowprops=dict(facecolor='blue', shrink=0.05))\n",
    "\n",
    "plt.show()"
   ]
  },
  {
   "cell_type": "markdown",
   "id": "0980685d",
   "metadata": {
    "papermill": {
     "duration": 0.02293,
     "end_time": "2023-01-28T17:20:14.156481",
     "exception": false,
     "start_time": "2023-01-28T17:20:14.133551",
     "status": "completed"
    },
    "tags": []
   },
   "source": [
    "### Note:\n",
    "**From the above plot we can see that 9 eigenvectors can be used to represent 95% variance**"
   ]
  },
  {
   "cell_type": "code",
   "execution_count": 30,
   "id": "b275d533",
   "metadata": {
    "execution": {
     "iopub.execute_input": "2023-01-28T17:20:14.207863Z",
     "iopub.status.busy": "2023-01-28T17:20:14.207439Z",
     "iopub.status.idle": "2023-01-28T17:20:51.451071Z",
     "shell.execute_reply": "2023-01-28T17:20:51.449847Z"
    },
    "papermill": {
     "duration": 37.272586,
     "end_time": "2023-01-28T17:20:51.453967",
     "exception": false,
     "start_time": "2023-01-28T17:20:14.181381",
     "status": "completed"
    },
    "tags": []
   },
   "outputs": [
    {
     "name": "stdout",
     "output_type": "stream",
     "text": [
      "The innertia for : 2 Clusters is: 6860370.373493216\n",
      "The innertia for : 3 Clusters is: 5601874.036457459\n",
      "The innertia for : 4 Clusters is: 5048851.917918022\n",
      "The innertia for : 5 Clusters is: 4598343.436213508\n",
      "The innertia for : 6 Clusters is: 4313269.845758188\n",
      "The innertia for : 7 Clusters is: 4080311.6976732872\n",
      "The innertia for : 8 Clusters is: 3903531.824335301\n",
      "The innertia for : 9 Clusters is: 3752599.321957307\n"
     ]
    },
    {
     "data": {
      "text/plain": [
       "Text(0.5, 1.0, 'Inertia Plot per k')"
      ]
     },
     "execution_count": 30,
     "metadata": {},
     "output_type": "execute_result"
    },
    {
     "data": {
      "image/png": "[encoded data removed]",
      "text/plain": [
       "<Figure size 1600x600 with 1 Axes>"
      ]
     },
     "metadata": {},
     "output_type": "display_data"
    }
   ],
   "source": [
    "pca = PCA(n_components=9, random_state = 453)\n",
    "X_r = pca.fit(X).transform(X)\n",
    "\n",
    "inertia = []\n",
    "\n",
    "for f in no_of_clusters:\n",
    "    kmeans = KMeans(n_clusters=f, random_state=2)\n",
    "    kmeans = kmeans.fit(X_r)\n",
    "    u = kmeans.inertia_\n",
    "    inertia.append(u)\n",
    "    print(\"The innertia for :\", f, \"Clusters is:\", u)\n",
    "\n",
    "fig, (ax1) = plt.subplots(1, figsize=(16,6))\n",
    "xx = np.arange(len(no_of_clusters))\n",
    "ax1.plot(xx, inertia)\n",
    "ax1.set_xticks(xx)\n",
    "ax1.set_xticklabels(no_of_clusters, rotation='vertical')\n",
    "plt.xlabel('n_components Value')\n",
    "plt.ylabel('Inertia Score')\n",
    "plt.title(\"Inertia Plot per k\")"
   ]
  },
  {
   "cell_type": "code",
   "execution_count": 31,
   "id": "6e5b2719",
   "metadata": {
    "execution": {
     "iopub.execute_input": "2023-01-28T17:20:51.507734Z",
     "iopub.status.busy": "2023-01-28T17:20:51.507210Z",
     "iopub.status.idle": "2023-01-28T17:20:55.930916Z",
     "shell.execute_reply": "2023-01-28T17:20:55.929653Z"
    },
    "papermill": {
     "duration": 4.454003,
     "end_time": "2023-01-28T17:20:55.933750",
     "exception": false,
     "start_time": "2023-01-28T17:20:51.479747",
     "status": "completed"
    },
    "tags": []
   },
   "outputs": [
    {
     "data": {
      "text/html": [
       "<div>\n",
       "<style scoped>\n",
       "    .dataframe tbody tr th:only-of-type {\n",
       "        vertical-align: middle;\n",
       "    }\n",
       "\n",
       "    .dataframe tbody tr th {\n",
       "        vertical-align: top;\n",
       "    }\n",
       "\n",
       "    .dataframe thead th {\n",
       "        text-align: right;\n",
       "    }\n",
       "</style>\n",
       "<table border=\"1\" class=\"dataframe\">\n",
       "  <thead>\n",
       "    <tr style=\"text-align: right;\">\n",
       "      <th>department</th>\n",
       "      <th>alcohol</th>\n",
       "      <th>babies</th>\n",
       "      <th>bakery</th>\n",
       "      <th>beverages</th>\n",
       "      <th>breakfast</th>\n",
       "      <th>bulk</th>\n",
       "      <th>canned goods</th>\n",
       "      <th>dairy eggs</th>\n",
       "      <th>deli</th>\n",
       "      <th>dry goods pasta</th>\n",
       "      <th>...</th>\n",
       "      <th>meat seafood</th>\n",
       "      <th>missing</th>\n",
       "      <th>other</th>\n",
       "      <th>pantry</th>\n",
       "      <th>personal care</th>\n",
       "      <th>pets</th>\n",
       "      <th>produce</th>\n",
       "      <th>snacks</th>\n",
       "      <th>clusters</th>\n",
       "      <th>Cluster Category</th>\n",
       "    </tr>\n",
       "    <tr>\n",
       "      <th>user_id</th>\n",
       "      <th></th>\n",
       "      <th></th>\n",
       "      <th></th>\n",
       "      <th></th>\n",
       "      <th></th>\n",
       "      <th></th>\n",
       "      <th></th>\n",
       "      <th></th>\n",
       "      <th></th>\n",
       "      <th></th>\n",
       "      <th></th>\n",
       "      <th></th>\n",
       "      <th></th>\n",
       "      <th></th>\n",
       "      <th></th>\n",
       "      <th></th>\n",
       "      <th></th>\n",
       "      <th></th>\n",
       "      <th></th>\n",
       "      <th></th>\n",
       "      <th></th>\n",
       "    </tr>\n",
       "  </thead>\n",
       "  <tbody>\n",
       "    <tr>\n",
       "      <th>2</th>\n",
       "      <td>0</td>\n",
       "      <td>0</td>\n",
       "      <td>0</td>\n",
       "      <td>0</td>\n",
       "      <td>0</td>\n",
       "      <td>0</td>\n",
       "      <td>0</td>\n",
       "      <td>2</td>\n",
       "      <td>3</td>\n",
       "      <td>0</td>\n",
       "      <td>...</td>\n",
       "      <td>0</td>\n",
       "      <td>0</td>\n",
       "      <td>0</td>\n",
       "      <td>0</td>\n",
       "      <td>0</td>\n",
       "      <td>0</td>\n",
       "      <td>3</td>\n",
       "      <td>3</td>\n",
       "      <td>0</td>\n",
       "      <td>Cluster 1</td>\n",
       "    </tr>\n",
       "    <tr>\n",
       "      <th>3</th>\n",
       "      <td>0</td>\n",
       "      <td>0</td>\n",
       "      <td>0</td>\n",
       "      <td>1</td>\n",
       "      <td>0</td>\n",
       "      <td>0</td>\n",
       "      <td>0</td>\n",
       "      <td>5</td>\n",
       "      <td>0</td>\n",
       "      <td>0</td>\n",
       "      <td>...</td>\n",
       "      <td>0</td>\n",
       "      <td>0</td>\n",
       "      <td>0</td>\n",
       "      <td>1</td>\n",
       "      <td>0</td>\n",
       "      <td>0</td>\n",
       "      <td>6</td>\n",
       "      <td>3</td>\n",
       "      <td>3</td>\n",
       "      <td>Cluster 4</td>\n",
       "    </tr>\n",
       "    <tr>\n",
       "      <th>7</th>\n",
       "      <td>0</td>\n",
       "      <td>0</td>\n",
       "      <td>1</td>\n",
       "      <td>7</td>\n",
       "      <td>0</td>\n",
       "      <td>0</td>\n",
       "      <td>2</td>\n",
       "      <td>4</td>\n",
       "      <td>3</td>\n",
       "      <td>0</td>\n",
       "      <td>...</td>\n",
       "      <td>1</td>\n",
       "      <td>0</td>\n",
       "      <td>0</td>\n",
       "      <td>0</td>\n",
       "      <td>0</td>\n",
       "      <td>0</td>\n",
       "      <td>2</td>\n",
       "      <td>3</td>\n",
       "      <td>0</td>\n",
       "      <td>Cluster 1</td>\n",
       "    </tr>\n",
       "    <tr>\n",
       "      <th>10</th>\n",
       "      <td>0</td>\n",
       "      <td>0</td>\n",
       "      <td>0</td>\n",
       "      <td>0</td>\n",
       "      <td>0</td>\n",
       "      <td>0</td>\n",
       "      <td>0</td>\n",
       "      <td>5</td>\n",
       "      <td>4</td>\n",
       "      <td>0</td>\n",
       "      <td>...</td>\n",
       "      <td>4</td>\n",
       "      <td>0</td>\n",
       "      <td>0</td>\n",
       "      <td>4</td>\n",
       "      <td>0</td>\n",
       "      <td>0</td>\n",
       "      <td>13</td>\n",
       "      <td>0</td>\n",
       "      <td>3</td>\n",
       "      <td>Cluster 4</td>\n",
       "    </tr>\n",
       "    <tr>\n",
       "      <th>11</th>\n",
       "      <td>0</td>\n",
       "      <td>0</td>\n",
       "      <td>0</td>\n",
       "      <td>3</td>\n",
       "      <td>0</td>\n",
       "      <td>0</td>\n",
       "      <td>0</td>\n",
       "      <td>2</td>\n",
       "      <td>0</td>\n",
       "      <td>0</td>\n",
       "      <td>...</td>\n",
       "      <td>0</td>\n",
       "      <td>0</td>\n",
       "      <td>0</td>\n",
       "      <td>4</td>\n",
       "      <td>0</td>\n",
       "      <td>0</td>\n",
       "      <td>2</td>\n",
       "      <td>0</td>\n",
       "      <td>0</td>\n",
       "      <td>Cluster 1</td>\n",
       "    </tr>\n",
       "    <tr>\n",
       "      <th>...</th>\n",
       "      <td>...</td>\n",
       "      <td>...</td>\n",
       "      <td>...</td>\n",
       "      <td>...</td>\n",
       "      <td>...</td>\n",
       "      <td>...</td>\n",
       "      <td>...</td>\n",
       "      <td>...</td>\n",
       "      <td>...</td>\n",
       "      <td>...</td>\n",
       "      <td>...</td>\n",
       "      <td>...</td>\n",
       "      <td>...</td>\n",
       "      <td>...</td>\n",
       "      <td>...</td>\n",
       "      <td>...</td>\n",
       "      <td>...</td>\n",
       "      <td>...</td>\n",
       "      <td>...</td>\n",
       "      <td>...</td>\n",
       "      <td>...</td>\n",
       "    </tr>\n",
       "    <tr>\n",
       "      <th>206204</th>\n",
       "      <td>0</td>\n",
       "      <td>0</td>\n",
       "      <td>1</td>\n",
       "      <td>0</td>\n",
       "      <td>0</td>\n",
       "      <td>0</td>\n",
       "      <td>0</td>\n",
       "      <td>6</td>\n",
       "      <td>0</td>\n",
       "      <td>2</td>\n",
       "      <td>...</td>\n",
       "      <td>1</td>\n",
       "      <td>0</td>\n",
       "      <td>0</td>\n",
       "      <td>0</td>\n",
       "      <td>0</td>\n",
       "      <td>1</td>\n",
       "      <td>4</td>\n",
       "      <td>0</td>\n",
       "      <td>3</td>\n",
       "      <td>Cluster 4</td>\n",
       "    </tr>\n",
       "    <tr>\n",
       "      <th>206205</th>\n",
       "      <td>0</td>\n",
       "      <td>0</td>\n",
       "      <td>1</td>\n",
       "      <td>1</td>\n",
       "      <td>0</td>\n",
       "      <td>0</td>\n",
       "      <td>0</td>\n",
       "      <td>2</td>\n",
       "      <td>0</td>\n",
       "      <td>0</td>\n",
       "      <td>...</td>\n",
       "      <td>0</td>\n",
       "      <td>0</td>\n",
       "      <td>0</td>\n",
       "      <td>0</td>\n",
       "      <td>0</td>\n",
       "      <td>0</td>\n",
       "      <td>3</td>\n",
       "      <td>0</td>\n",
       "      <td>0</td>\n",
       "      <td>Cluster 1</td>\n",
       "    </tr>\n",
       "    <tr>\n",
       "      <th>206206</th>\n",
       "      <td>0</td>\n",
       "      <td>0</td>\n",
       "      <td>0</td>\n",
       "      <td>2</td>\n",
       "      <td>0</td>\n",
       "      <td>0</td>\n",
       "      <td>0</td>\n",
       "      <td>1</td>\n",
       "      <td>1</td>\n",
       "      <td>0</td>\n",
       "      <td>...</td>\n",
       "      <td>1</td>\n",
       "      <td>0</td>\n",
       "      <td>0</td>\n",
       "      <td>0</td>\n",
       "      <td>0</td>\n",
       "      <td>0</td>\n",
       "      <td>1</td>\n",
       "      <td>4</td>\n",
       "      <td>0</td>\n",
       "      <td>Cluster 1</td>\n",
       "    </tr>\n",
       "    <tr>\n",
       "      <th>206208</th>\n",
       "      <td>0</td>\n",
       "      <td>0</td>\n",
       "      <td>2</td>\n",
       "      <td>1</td>\n",
       "      <td>1</td>\n",
       "      <td>0</td>\n",
       "      <td>0</td>\n",
       "      <td>7</td>\n",
       "      <td>1</td>\n",
       "      <td>0</td>\n",
       "      <td>...</td>\n",
       "      <td>0</td>\n",
       "      <td>0</td>\n",
       "      <td>0</td>\n",
       "      <td>0</td>\n",
       "      <td>0</td>\n",
       "      <td>0</td>\n",
       "      <td>10</td>\n",
       "      <td>2</td>\n",
       "      <td>3</td>\n",
       "      <td>Cluster 4</td>\n",
       "    </tr>\n",
       "    <tr>\n",
       "      <th>206209</th>\n",
       "      <td>0</td>\n",
       "      <td>0</td>\n",
       "      <td>2</td>\n",
       "      <td>3</td>\n",
       "      <td>1</td>\n",
       "      <td>0</td>\n",
       "      <td>1</td>\n",
       "      <td>4</td>\n",
       "      <td>1</td>\n",
       "      <td>0</td>\n",
       "      <td>...</td>\n",
       "      <td>0</td>\n",
       "      <td>0</td>\n",
       "      <td>0</td>\n",
       "      <td>1</td>\n",
       "      <td>0</td>\n",
       "      <td>0</td>\n",
       "      <td>4</td>\n",
       "      <td>2</td>\n",
       "      <td>0</td>\n",
       "      <td>Cluster 1</td>\n",
       "    </tr>\n",
       "  </tbody>\n",
       "</table>\n",
       "<p>105273 rows × 23 columns</p>\n",
       "</div>"
      ],
      "text/plain": [
       "department  alcohol  babies  bakery  beverages  breakfast  bulk  canned goods  \\\n",
       "user_id                                                                         \n",
       "2                 0       0       0          0          0     0             0   \n",
       "3                 0       0       0          1          0     0             0   \n",
       "7                 0       0       1          7          0     0             2   \n",
       "10                0       0       0          0          0     0             0   \n",
       "11                0       0       0          3          0     0             0   \n",
       "...             ...     ...     ...        ...        ...   ...           ...   \n",
       "206204            0       0       1          0          0     0             0   \n",
       "206205            0       0       1          1          0     0             0   \n",
       "206206            0       0       0          2          0     0             0   \n",
       "206208            0       0       2          1          1     0             0   \n",
       "206209            0       0       2          3          1     0             1   \n",
       "\n",
       "department  dairy eggs  deli  dry goods pasta  ...  meat seafood  missing  \\\n",
       "user_id                                        ...                          \n",
       "2                    2     3                0  ...             0        0   \n",
       "3                    5     0                0  ...             0        0   \n",
       "7                    4     3                0  ...             1        0   \n",
       "10                   5     4                0  ...             4        0   \n",
       "11                   2     0                0  ...             0        0   \n",
       "...                ...   ...              ...  ...           ...      ...   \n",
       "206204               6     0                2  ...             1        0   \n",
       "206205               2     0                0  ...             0        0   \n",
       "206206               1     1                0  ...             1        0   \n",
       "206208               7     1                0  ...             0        0   \n",
       "206209               4     1                0  ...             0        0   \n",
       "\n",
       "department  other  pantry  personal care  pets  produce  snacks  clusters  \\\n",
       "user_id                                                                     \n",
       "2               0       0              0     0        3       3         0   \n",
       "3               0       1              0     0        6       3         3   \n",
       "7               0       0              0     0        2       3         0   \n",
       "10              0       4              0     0       13       0         3   \n",
       "11              0       4              0     0        2       0         0   \n",
       "...           ...     ...            ...   ...      ...     ...       ...   \n",
       "206204          0       0              0     1        4       0         3   \n",
       "206205          0       0              0     0        3       0         0   \n",
       "206206          0       0              0     0        1       4         0   \n",
       "206208          0       0              0     0       10       2         3   \n",
       "206209          0       1              0     0        4       2         0   \n",
       "\n",
       "department  Cluster Category  \n",
       "user_id                       \n",
       "2                  Cluster 1  \n",
       "3                  Cluster 4  \n",
       "7                  Cluster 1  \n",
       "10                 Cluster 4  \n",
       "11                 Cluster 1  \n",
       "...                      ...  \n",
       "206204             Cluster 4  \n",
       "206205             Cluster 1  \n",
       "206206             Cluster 1  \n",
       "206208             Cluster 4  \n",
       "206209             Cluster 1  \n",
       "\n",
       "[105273 rows x 23 columns]"
      ]
     },
     "execution_count": 31,
     "metadata": {},
     "output_type": "execute_result"
    }
   ],
   "source": [
    "pca = PCA(n_components=9, random_state=453)\n",
    "X_r = pca.fit(X).transform(X)\n",
    "\n",
    "kmeans = KMeans(n_clusters=5, random_state=2)\n",
    "kmeans= kmeans.fit(X_r)\n",
    "\n",
    "clusters = kmeans.labels_\n",
    "\n",
    "clst_prd['clusters'] = clusters\n",
    "\n",
    "clst_prd[\"Cluster Category\"] = \"No Data\"\n",
    "clst_prd[\"Cluster Category\"].loc[clst_prd[\"clusters\"]==0]=\"Cluster 1\"\n",
    "clst_prd[\"Cluster Category\"].loc[clst_prd[\"clusters\"]==1]=\"Cluster 2\"\n",
    "clst_prd[\"Cluster Category\"].loc[clst_prd[\"clusters\"]==2]=\"Cluster 3\"\n",
    "clst_prd[\"Cluster Category\"].loc[clst_prd[\"clusters\"]==3]=\"Cluster 4\"\n",
    "clst_prd[\"Cluster Category\"].loc[clst_prd[\"clusters\"]==4]=\"Cluster 5\"\n",
    "\n",
    "clst_prd"
   ]
  },
  {
   "cell_type": "markdown",
   "id": "77e2959e",
   "metadata": {
    "papermill": {
     "duration": 0.025133,
     "end_time": "2023-01-28T17:20:55.986397",
     "exception": false,
     "start_time": "2023-01-28T17:20:55.961264",
     "status": "completed"
    },
    "tags": []
   },
   "source": [
    "<a id=\"6\"></a>\n",
    "<p style=\"font-family:newtimeroman;font-size:120%;text-align:center;border-radius:10px 10px;\"> CONCLUSION</p>\n",
    "\n",
    "\n",
    "#### **BUSINESS VALUE:**\n",
    "\n",
    "\n",
    "In this project, I utilized unsupervised machine learning along with PCA to decrease the number of dimensions to 9 components and 5 clusters. These clusters could then be used to target marketing campaigns based on the company's requirements and consumer characteristics. I have also build a live dashboard below for the purpose of end-end deployment."
   ]
  }
 ],
 "metadata": {
  "kernelspec": {
   "display_name": "Python 3 (ipykernel)",
   "language": "python",
   "name": "python3"
  },
  "language_info": {
   "codemirror_mode": {
    "name": "ipython",
    "version": 3
   },
   "file_extension": ".py",
   "mimetype": "text/x-python",
   "name": "python",
   "nbconvert_exporter": "python",
   "pygments_lexer": "ipython3",
   "version": "3.7.16"
  },
  "papermill": {
   "default_parameters": {},
   "duration": 128.530037,
   "end_time": "2023-01-28T17:20:56.992361",
   "environment_variables": {},
   "exception": null,
   "input_path": "__notebook__.ipynb",
   "output_path": "__notebook__.ipynb",
   "parameters": {},
   "start_time": "2023-01-28T17:18:48.462324",
   "version": "2.3.4"
  }
 },
 "nbformat": 4,
 "nbformat_minor": 5
}
